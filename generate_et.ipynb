{
 "cells": [
  {
   "cell_type": "markdown",
   "id": "801b7866",
   "metadata": {},
   "source": [
    "Generate setigen signals that can then be put into seticore and used as part of clustering"
   ]
  },
  {
   "cell_type": "code",
   "execution_count": 5,
   "id": "e037bb1e",
   "metadata": {},
   "outputs": [
    {
     "name": "stdout",
     "output_type": "stream",
     "text": [
      "blimpy.waterfall INFO     __write_to_hdf5_light: Writing the spectra matrix for et_signals/test.h5 without blobbing.\n",
      "hdf5plugin._filters WARNING  Deprecation: hdf5plugin.Bitshuffle's lz4 argument is deprecated, use cname='lz4' or 'none' instead.\n",
      "hdf5plugin._filters WARNING  Deprecation: hdf5plugin.Bitshuffle's lz4 argument is deprecated, use cname='lz4' or 'none' instead.\n",
      "blimpy.waterfall INFO     Conversion time: 0.01sec\n"
     ]
    }
   ],
   "source": [
    "%matplotlib inline\n",
    "\n",
    "import numpy as np\n",
    "import setigen as stg\n",
    "import blimpy as bl\n",
    "import matplotlib.pyplot as plt\n",
    "from astropy import units as u\n",
    "from astropy.coordinates import Angle\n",
    "import os\n",
    "import random\n",
    "import h5py\n",
    "\n",
    "# Create output directories\n",
    "output_file = 'et_signals/test.h5'\n",
    "os.makedirs('et_signals', exist_ok=True)\n",
    "os.makedirs('outputs', exist_ok=True)\n",
    "\n",
    "# Frame configuration\n",
    "fchans = 1024\n",
    "tchans = 32\n",
    "df = 2.7939677238464355 * u.Hz\n",
    "dt = 18.253611008 * u.s\n",
    "fch1 = random.uniform(6000, 6100) * u.MHz  # Random start frequency\n",
    "\n",
    "# Generate synthetic noise\n",
    "frame = stg.Frame(\n",
    "    fchans=fchans * u.pixel,\n",
    "    tchans=tchans * u.pixel,\n",
    "    df=df,\n",
    "    dt=dt,\n",
    "    fch1=fch1\n",
    ")\n",
    "frame.add_noise(x_mean=10, noise_type='chi2')\n",
    "\n",
    "# Frequency range for injection\n",
    "f_start_min = frame.get_frequency(index=0)\n",
    "f_start_max = frame.get_frequency(index=fchans - 1)\n",
    "f_start = random.uniform(f_start_min, f_start_max)\n",
    "\n",
    "# Add signal\n",
    "frame.add_signal(\n",
    "    path=stg.constant_path(\n",
    "        f_start=f_start,\n",
    "        drift_rate=random.uniform(-2, 2) * u.Hz / u.s\n",
    "    ),\n",
    "    t_profile=stg.constant_t_profile(\n",
    "        level=frame.get_intensity(snr=random.uniform(10, 30))\n",
    "    ),\n",
    "    f_profile=stg.gaussian_f_profile(\n",
    "        width=random.uniform(20, 60) * u.Hz\n",
    "    ),\n",
    "    bp_profile=stg.constant_bp_profile(level=1)\n",
    ")\n",
    "\n",
    "# Create realistic BL-style header\n",
    "header = {\n",
    "    'DIMENSION_LABELS': np.array([b'time', b'feed_id', b'frequency'], dtype=object),\n",
    "    'az_start': 0.0,\n",
    "    'data_type': 1,\n",
    "    'fch1': fch1.value,  # MHz\n",
    "    'foff': -df.to_value(u.MHz),  # negative MHz\n",
    "    'machine_id': 20,\n",
    "    'nbits': 32,\n",
    "    'nchans': fchans,\n",
    "    'nifs': 1,\n",
    "    'source_name': 'synthetic',\n",
    "    'src_dej': Angle(0 * u.deg),\n",
    "    'src_raj': Angle('0h0m0s'),\n",
    "    'telescope_id': 6,\n",
    "    'tsamp': dt.value,  # seconds\n",
    "    'tstart': 60000,\n",
    "    'za_start': 0.0,\n",
    "    'nfpc': fchans\n",
    "}\n",
    "\n",
    "# Convert to float32 and save using from_data\n",
    "data_array = frame.data.astype('<f4')  # little-endian float32\n",
    "frame = stg.Frame.from_data(\n",
    "    df=df,\n",
    "    dt=dt,\n",
    "    fch1=fch1,\n",
    "    ascending=False,\n",
    "    data=data_array,\n",
    "    metadata=header\n",
    ")\n",
    "frame.save_h5(output_file)\n",
    "\n",
    "# Plot waterfall\n",
    "plt.clf()\n",
    "fb = bl.Waterfall(output_file)\n",
    "fb.plot_waterfall()\n",
    "plt.savefig('outputs/plot.png')\n"
   ]
  },
  {
   "cell_type": "code",
   "execution_count": 6,
   "id": "faa1a58e",
   "metadata": {},
   "outputs": [
    {
     "name": "stdout",
     "output_type": "stream",
     "text": [
      "welcome to seticore, version 1.0.6\n",
      "running in dedoppler mode.\n",
      "loading input from et_signals/test.h5\n",
      "dedoppler parameters: max_drift=10.00 min_drift=0.0000 snr=25.00\n",
      "writing output to seticore_output/test.dat\n",
      "unable to infer coarse channel size for data with dimensions: 32 x 1024. please set the nfpc header.\n"
     ]
    }
   ],
   "source": [
    "!seticore \"et_signals/test.h5\" --output \"seticore_output/test.dat\""
   ]
  }
 ],
 "metadata": {
  "kernelspec": {
   "display_name": "Python 3",
   "language": "python",
   "name": "python3"
  },
  "language_info": {
   "codemirror_mode": {
    "name": "ipython",
    "version": 3
   },
   "file_extension": ".py",
   "mimetype": "text/x-python",
   "name": "python",
   "nbconvert_exporter": "python",
   "pygments_lexer": "ipython3",
   "version": "3.12.11"
  }
 },
 "nbformat": 4,
 "nbformat_minor": 5
}
