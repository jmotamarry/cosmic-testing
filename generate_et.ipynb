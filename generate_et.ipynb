{
 "cells": [
  {
   "cell_type": "markdown",
   "id": "801b7866",
   "metadata": {},
   "source": [
    "Generate setigen signals that can then be put into seticore and used as part of clustering"
   ]
  },
  {
   "cell_type": "code",
   "execution_count": 6,
   "id": "e037bb1e",
   "metadata": {},
   "outputs": [
    {
     "name": "stdout",
     "output_type": "stream",
     "text": [
      "blimpy.waterfall INFO     __write_to_hdf5_light: Writing the spectra matrix for et_signals/test.h5 without blobbing.\n",
      "hdf5plugin._filters WARNING  Deprecation: hdf5plugin.Bitshuffle's lz4 argument is deprecated, use cname='lz4' or 'none' instead.\n",
      "hdf5plugin._filters WARNING  Deprecation: hdf5plugin.Bitshuffle's lz4 argument is deprecated, use cname='lz4' or 'none' instead.\n",
      "blimpy.waterfall INFO     Conversion time: 1.07sec\n"
     ]
    }
   ],
   "source": [
    "from astropy import units as u\n",
    "import setigen as stg\n",
    "import numpy as np\n",
    "import matplotlib.pyplot as plt\n",
    "import h5py\n",
    "import os\n",
    "\n",
    "output_file = 'et_signals/test.h5'\n",
    "os.makedirs('et_signals', exist_ok=True)\n",
    "\n",
    "frame = stg.Frame(\n",
    "    fchans=1048576 * u.pixel,\n",
    "    tchans=16 * u.pixel,\n",
    "    df=2.7939677238464355 * u.Hz,\n",
    "    dt=18.253611008 * u.s,\n",
    "    fch1=8421.386717353016 * u.MHz,\n",
    "    dim_order='fht'\n",
    ")\n",
    "\n",
    "frame.add_noise(x_mean=10, noise_type='chi2')\n",
    "\n",
    "frame.add_constant_signal(\n",
    "    f_start=frame.get_frequency(200_000),\n",
    "    drift_rate=np.random.uniform(-2, 2) * u.Hz / u.s,\n",
    "    level=frame.get_intensity(snr=np.random.randint(10, 15)),\n",
    "    width=np.random.randint(20, 40) * u.Hz,\n",
    "    f_profile_type='sinc2'\n",
    ")\n",
    "\n",
    "frame.save_h5(output_file)\n"
   ]
  },
  {
   "cell_type": "code",
   "execution_count": 7,
   "id": "0ac55251",
   "metadata": {},
   "outputs": [
    {
     "name": "stdout",
     "output_type": "stream",
     "text": [
      "\n",
      "--- File Info ---\n",
      "DIMENSION_LABELS :   ['frequency' 'feed_id' 'time']\n",
      "        az_start :                              0.0\n",
      "       data_type :                                1\n",
      "            fch1 :            8421.386717353016 MHz\n",
      "            foff :      -2.7939677238464355e-06 MHz\n",
      "           ibeam :                                1\n",
      "      machine_id :                               20\n",
      "          nbeams :                                1\n",
      "           nbits :                               32\n",
      "          nchans :                          1048576\n",
      "            nifs :                                1\n",
      "     rawdatafile : guppi_57650_67573_Voyager1_0002.0000.raw\n",
      "     source_name :                         Voyager1\n",
      "         src_dej :                       12:10:58.8\n",
      "         src_raj :                     17:10:03.984\n",
      "    telescope_id :                                6\n",
      "           tsamp :                     18.253611008\n",
      "   tstart (ISOT) :          2016-09-19T18:46:13.000\n",
      "    tstart (MJD) :                57650.78209490741\n",
      "        za_start :                              0.0\n",
      "\n",
      "Num ints in file :                               16\n",
      "      File shape :       (16, np.int64(1), 1048576)\n",
      "--- Selection Info ---\n",
      "Data selection shape :                 (16, 1, 1048576)\n",
      "Minimum freq (MHz) :                8418.457032646984\n",
      "Maximum freq (MHz) :                8421.386717353016\n",
      "\n",
      "--- File Info ---\n",
      "DIMENSION_LABELS :   ['time' 'feed_id' 'frequency']\n",
      "        az_start :                              0.0\n",
      "       data_type :                                1\n",
      "            fch1 :            8421.386717353016 MHz\n",
      "            foff :      -2.7939677238464355e-06 MHz\n",
      "           ibeam :                               -1\n",
      "      machine_id :                               20\n",
      "          nbeams :                                1\n",
      "           nbits :                               32\n",
      "          nchans :                          1048576\n",
      "            nifs :                                1\n",
      "     rawdatafile :                        Synthetic\n",
      "     source_name :                        Synthetic\n",
      "         src_dej :                     -28:22:59.16\n",
      "         src_raj :                         17:47:15\n",
      "    telescope_id :                                6\n",
      "           tsamp :                     18.253611008\n",
      "   tstart (ISOT) :          2025-06-25T18:46:32.433\n",
      "    tstart (MJD) :               60851.782319828984\n",
      "        za_start :                              0.0\n",
      "\n",
      "Num ints in file :                               16\n",
      "      File shape :       (16, np.int64(1), 1048576)\n",
      "--- Selection Info ---\n",
      "Data selection shape :                 (16, 1, 1048576)\n",
      "Minimum freq (MHz) :                8418.457032646984\n",
      "Maximum freq (MHz) :                8421.386717353016\n"
     ]
    }
   ],
   "source": [
    "from blimpy import Waterfall\n",
    "\n",
    "fb = Waterfall('et_signals/test_voyager.h5')\n",
    "fb.info()\n",
    "fb.plot_waterfall()\n",
    "\n",
    "fb = Waterfall('et_signals/test.h5')\n",
    "fb.info()\n",
    "fb.plot_waterfall()\n"
   ]
  }
 ],
 "metadata": {
  "kernelspec": {
   "display_name": "Python 3",
   "language": "python",
   "name": "python3"
  },
  "language_info": {
   "codemirror_mode": {
    "name": "ipython",
    "version": 3
   },
   "file_extension": ".py",
   "mimetype": "text/x-python",
   "name": "python",
   "nbconvert_exporter": "python",
   "pygments_lexer": "ipython3",
   "version": "3.12.11"
  }
 },
 "nbformat": 4,
 "nbformat_minor": 5
}
